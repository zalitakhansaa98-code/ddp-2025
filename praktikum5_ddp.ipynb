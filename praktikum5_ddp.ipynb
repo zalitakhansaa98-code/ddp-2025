{
  "nbformat": 4,
  "nbformat_minor": 0,
  "metadata": {
    "colab": {
      "provenance": [],
      "authorship_tag": "ABX9TyNfOCCMztHb3P48reWt239P",
      "include_colab_link": true
    },
    "kernelspec": {
      "name": "python3",
      "display_name": "Python 3"
    },
    "language_info": {
      "name": "python"
    }
  },
  "cells": [
    {
      "cell_type": "markdown",
      "metadata": {
        "id": "view-in-github",
        "colab_type": "text"
      },
      "source": [
        "<a href=\"https://colab.research.google.com/github/zalitakhansaa98-code/ddp-2025/blob/main/praktikum5_ddp.ipynb\" target=\"_parent\"><img src=\"https://colab.research.google.com/assets/colab-badge.svg\" alt=\"Open In Colab\"/></a>"
      ]
    },
    {
      "cell_type": "code",
      "execution_count": null,
      "metadata": {
        "id": "y0UoY3Kozw8J",
        "colab": {
          "base_uri": "https://localhost:8080/"
        },
        "outputId": "057d0ddc-5092-4160-dbbc-9f4412828fa2"
      },
      "outputs": [
        {
          "output_type": "stream",
          "name": "stdout",
          "text": [
            "['beat ember', 'motor', 200, 'biru', 2]\n",
            "['beat ember', 'motor', 200, 'biru', 2, 5000, 'matic']\n",
            "['beat ember', 'motor', 'Honda', 200, 'biru', 2, 5000, 'matic']\n"
          ]
        }
      ],
      "source": [
        "namakendaraan  = \"beat ember\"\n",
        "jeniskendaraan = \"motor\"\n",
        "cckendaraan    = 200\n",
        "warnakendaraan = \"biru\"\n",
        "rodakendaraan  = 2\n",
        "\n",
        "data_kendaraan = [namakendaraan, jeniskendaraan, cckendaraan, warnakendaraan,\n",
        "rodakendaraan]\n",
        "\n",
        "print(data_kendaraan)\n",
        "\n",
        "hargakendaraan = 5000\n",
        "tipekendaraan  = \"matic\"\n",
        "\n",
        "data_kendaraan.append(hargakendaraan)\n",
        "data_kendaraan.append(tipekendaraan)\n",
        "print(data_kendaraan)\n",
        "\n",
        "merkkendaraan = \"Honda\"\n",
        "data_kendaraan.insert(2, merkkendaraan)\n",
        "print(data_kendaraan)"
      ]
    },
    {
      "cell_type": "code",
      "source": [
        "pilihan = input(\"\"\"\n",
        "silahkan pilih menu yang diinginkan\n",
        "====================================\n",
        "1. luas persegi\n",
        "2. luas lingkaran\n",
        "3. luas segitiga\n",
        "====================================\n",
        "kirimkan hanya angka saja, jawaban = \"\"\")\n",
        "\n",
        "match pilihan:\n",
        "   case \"1\":\n",
        "      print(\"anda memilih Luas persegi silahkan isi data dibawah\")\n",
        "      sisi = int(input(\"sisi = \"))\n",
        "      luas = sisi * sisi\n",
        "\n",
        "      print(f\"luas persegi dengan sisi (sisi) adalah {luas}\")\n",
        "      #luas persegi\n",
        "   case \"2\":\n",
        "      print(\"anda memilih luas lingkaran silahkan isi data dibawah\")\n",
        "      jarijari = int(input(\"jarijari = \"))\n",
        "      luas = 3.14 * jarijari * jarijari\n",
        "      #luas lingkaran\n",
        "      #phi * jarijari**2\n",
        "\n",
        "\n",
        "      print(f\"luas lingkaran dengan jarijari {jarijari} adalah {luas}\")\n",
        "   case \"3\":\n",
        "      alas   = int(input(\"alas = \"))\n",
        "      tinggi = int(input(\"tinggi = \"))\n",
        "      luas   = (alas * tinggi)/2\n",
        "\n",
        "      print(f\"luas segita dengan alas {alas} * tinggi {tinggi} /2 adalah {alas}\")\n",
        "      #luas segitiga\n",
        "   case _:\n",
        "      print(\"tidak keluar\")"
      ],
      "metadata": {
        "colab": {
          "base_uri": "https://localhost:8080/"
        },
        "id": "4Hray5eJ9Kyv",
        "outputId": "a9fde378-fea0-4cdf-aa5c-ac8eea359ae5"
      },
      "execution_count": 47,
      "outputs": [
        {
          "output_type": "stream",
          "name": "stdout",
          "text": [
            "\n",
            "silahkan pilih menu yang diinginkan\n",
            "====================================\n",
            "1. luas persegi\n",
            "2. luas lingkaran\n",
            "3. luas segitiga\n",
            "====================================\n",
            "kirimkan hanya angka saja, jawaban = 2\n",
            "anda memilih luas lingkaran silahkan isi data dibawah\n",
            "jarijari = 5\n",
            "luas lingkaran dengan jarijari 5 adalah 78.5\n"
          ]
        }
      ]
    }
  ]
}